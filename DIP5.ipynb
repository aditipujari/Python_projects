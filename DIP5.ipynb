{
 "cells": [
  {
   "cell_type": "markdown",
   "metadata": {},
   "source": [
    "# DIGITAL IMAGE PROCESSING"
   ]
  },
  {
   "cell_type": "markdown",
   "metadata": {},
   "source": [
    "# Erosion of Image"
   ]
  },
  {
   "cell_type": "code",
   "execution_count": null,
   "metadata": {},
   "outputs": [],
   "source": [
    "import cv2 \n",
    "import numpy as np \n",
    "    \n",
    "a = cv2.imread('D:\\Letter_A.jpg')\n",
    "#cv2.imshow('Original',a)\n",
    "cv2.waitKey(0)\n",
    "\n",
    "# Taking a matrix of size 5 as the kernel \n",
    "struct_element = np.ones((25,25), np.uint8) \n",
    "\n",
    "erosion = cv2.erode(a, struct_element, iterations=1) \n",
    "\n",
    "\n",
    "cv2.imshow('Original', a) \n",
    "cv2.imshow('Erosion', erosion) \n",
    "  \n",
    "cv2.waitKey(0) "
   ]
  },
  {
   "cell_type": "markdown",
   "metadata": {},
   "source": [
    "# Dilation of Image"
   ]
  },
  {
   "cell_type": "code",
   "execution_count": 2,
   "metadata": {},
   "outputs": [
    {
     "data": {
      "text/plain": [
       "-1"
      ]
     },
     "execution_count": 2,
     "metadata": {},
     "output_type": "execute_result"
    }
   ],
   "source": [
    "\n",
    "struct_element = np.ones((25,25), np.uint8)\n",
    "\n",
    "dilation = cv2.dilate(a, struct_element, iterations=1) \n",
    "\n",
    "cv2.imshow('Original',a)\n",
    "cv2.imshow('Dilation', dilation)\n",
    "\n",
    "cv2.waitKey(0)"
   ]
  },
  {
   "cell_type": "markdown",
   "metadata": {},
   "source": [
    "# Opening"
   ]
  },
  {
   "cell_type": "code",
   "execution_count": null,
   "metadata": {},
   "outputs": [],
   "source": [
    "struct_element = np.ones((15,15), np.uint8)\n",
    "\n",
    "erosion = cv2.erode(a, struct_element, iterations=1)\n",
    "\n",
    "opening = cv2.dilate(erosion, struct_element, iterations=1)\n",
    "\n",
    "cv2.imshow('Original',a)\n",
    "cv2.imshow('Erosion',erosion)\n",
    "cv2.imshow('Opening',opening)\n",
    "\n",
    "cv2.waitKey(0)"
   ]
  },
  {
   "cell_type": "markdown",
   "metadata": {},
   "source": [
    "# Closing"
   ]
  },
  {
   "cell_type": "code",
   "execution_count": null,
   "metadata": {},
   "outputs": [],
   "source": [
    "\n",
    "struct_element = np.ones((15,15), np.uint8)\n",
    "\n",
    "dilation = cv2.dilate(a, struct_element, iterations=1)\n",
    "\n",
    "closing = cv2.erode(dilation, struct_element, iterations=1)\n",
    "\n",
    "cv2.imshow('Original',a)\n",
    "cv2.imshow('Dilation',dilation)\n",
    "cv2.imshow('Closing',closing)\n",
    "\n",
    "cv2.waitKey(0)"
   ]
  },
  {
   "cell_type": "markdown",
   "metadata": {},
   "source": [
    "# Boundary"
   ]
  },
  {
   "cell_type": "code",
   "execution_count": null,
   "metadata": {},
   "outputs": [],
   "source": [
    "\n",
    "img = cv2.imread('D:\\Letter_A.jpg', 0)\n",
    "erosion=cv2.erode(img,np.ones((5,5),np.uint8),iterations=1)\n",
    "image=cv2.subtract(img,erosion)\n",
    "cv2.imshow('Original',img)\n",
    "cv2.imshow('Erosion',erosion)\n",
    "cv2.imshow('Boundary',image)\n",
    "\n",
    "cv2.waitKey(0)\n"
   ]
  },
  {
   "cell_type": "code",
   "execution_count": null,
   "metadata": {},
   "outputs": [],
   "source": []
  },
  {
   "cell_type": "code",
   "execution_count": null,
   "metadata": {},
   "outputs": [],
   "source": []
  }
 ],
 "metadata": {
  "kernelspec": {
   "display_name": "Python 3",
   "language": "python",
   "name": "python3"
  },
  "language_info": {
   "codemirror_mode": {
    "name": "ipython",
    "version": 3
   },
   "file_extension": ".py",
   "mimetype": "text/x-python",
   "name": "python",
   "nbconvert_exporter": "python",
   "pygments_lexer": "ipython3",
   "version": "3.7.4"
  }
 },
 "nbformat": 4,
 "nbformat_minor": 2
}
